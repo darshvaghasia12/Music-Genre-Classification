{
  "nbformat": 4,
  "nbformat_minor": 0,
  "metadata": {
    "colab": {
      "name": "Music Genre Classification.ipynb",
      "provenance": [],
      "collapsed_sections": [],
      "include_colab_link": true
    },
    "kernelspec": {
      "name": "python3",
      "display_name": "Python 3"
    }
  },
  "cells": [
    {
      "cell_type": "markdown",
      "metadata": {
        "id": "view-in-github",
        "colab_type": "text"
      },
      "source": [
        "<a href=\"https://colab.research.google.com/github/darshvaghasia12/Music-Genre-Classification/blob/main/Music_Genre_Classification.ipynb\" target=\"_parent\"><img src=\"https://colab.research.google.com/assets/colab-badge.svg\" alt=\"Open In Colab\"/></a>"
      ]
    },
    {
      "cell_type": "code",
      "metadata": {
        "colab": {
          "base_uri": "https://localhost:8080/"
        },
        "id": "EScThb0BAQbL",
        "outputId": "8c73d9c4-ad87-4e07-f604-f2200985c807"
      },
      "source": [
        "pip install python_speech_features"
      ],
      "execution_count": null,
      "outputs": [
        {
          "output_type": "stream",
          "text": [
            "Requirement already satisfied: python_speech_features in /usr/local/lib/python3.6/dist-packages (0.6)\n"
          ],
          "name": "stdout"
        }
      ]
    },
    {
      "cell_type": "code",
      "metadata": {
        "id": "nwrkNaMA8e48"
      },
      "source": [
        "from python_speech_features import mfcc\n",
        "import scipy.io.wavfile as wav\n",
        "import numpy as np\n",
        "\n",
        "from tempfile import TemporaryFile\n",
        "import os\n",
        "import pickle\n",
        "import random\n",
        "import operator\n",
        "\n",
        "import math\n"
      ],
      "execution_count": null,
      "outputs": []
    },
    {
      "cell_type": "code",
      "metadata": {
        "id": "qN2ahosRAB6T"
      },
      "source": [
        "#To get the distance between feature vectors and get neighbours\n",
        "def getNeighbors(trainingSet, instance, k):\n",
        "    distances = []\n",
        "    for x in range (len(trainingSet)):\n",
        "        dist = distance(trainingSet[x], instance, k )+ distance(instance, trainingSet[x], k)\n",
        "        distances.append((trainingSet[x][2], dist))\n",
        "    distances.sort(key=operator.itemgetter(1))\n",
        "    neighbors = []\n",
        "    for x in range(k):\n",
        "        neighbors.append(distances[x][0])\n",
        "    return neighbors"
      ],
      "execution_count": null,
      "outputs": []
    },
    {
      "cell_type": "code",
      "metadata": {
        "id": "PSezESGWqOCJ"
      },
      "source": [
        "def nearestClass(neighbors):\n",
        "    classVote = {}\n",
        " \n",
        "    for x in range(len(neighbors)):\n",
        "        response = neighbors[x]\n",
        "        if response in classVote:\n",
        "            classVote[response]+=1 \n",
        "        else:\n",
        "            classVote[response]=1\n",
        " \n",
        "    sorter = sorted(classVote.items(), key = operator.itemgetter(1), reverse=True)\n",
        "    return sorter[0][0]"
      ],
      "execution_count": null,
      "outputs": []
    },
    {
      "cell_type": "code",
      "metadata": {
        "id": "-G7AwYe-GbWo"
      },
      "source": [
        "#Model Evaluation\n",
        "def getAccuracy(testSet, predictions):\n",
        "    correct = 0 \n",
        "    for x in range (len(testSet)):\n",
        "        if testSet[x][-1]==predictions[x]:\n",
        "            correct+=1\n",
        "    return 1.0*correct/len(testSet)"
      ],
      "execution_count": null,
      "outputs": []
    },
    {
      "cell_type": "code",
      "metadata": {
        "id": "ybfKp_21HJv8"
      },
      "source": [
        " \n",
        "#Extraction of Features\n",
        "directory=\"/content/drive/MyDrive/genres\"\n",
        "f=open(\"my.dat\",'wb')\n",
        "i=0\n",
        " \n",
        "for folder in os.listdir(directory):\n",
        "  i+=1\n",
        "  if i==11:\n",
        "    break\n",
        "  for file in os.listdir(directory+\"/\"+folder):\n",
        "    (rate,sig)=wav.read(directory+\"/\"+folder+\"/\"+file)  \n",
        "    mfcc_feat=mfcc(sig,rate,winlen=0.020,appendEnergy=False)\n",
        "    covariance=np.cov(np.matrix.transpose(mfcc_feat))\n",
        "    mean_matrix=mfcc_feat.mean(0)\n",
        "    feature=(mean_matrix,covariance,i)\n",
        "    pickle.dump(feature,f)\n",
        "f.close()"
      ],
      "execution_count": null,
      "outputs": []
    },
    {
      "cell_type": "code",
      "metadata": {
        "id": "3s_xbpMnaiA1"
      },
      "source": [
        "dataset=[]\n",
        "def loadDataset(filename,split,trSet,teSet):\n",
        "  with open(\"my.dat\",'rb') as f:\n",
        "    while True:\n",
        "      try:\n",
        "        dataset.append(pickle.load(f))\n",
        "      except EOFerror:\n",
        "        f.close()\n",
        "        break\n",
        "  for i in range(len(dataset)):\n",
        "    if random.random()<split:\n",
        "      trSet.append(dataset[i])\n",
        "    else:\n",
        "      teSet.append(dataset[i])\n",
        "  trainingSet=[]\n",
        "  testSet=[]\n",
        "  loadDataset(\"my.dat\",0.66,trainingSet,testSet)\n",
        "  \n",
        " "
      ],
      "execution_count": null,
      "outputs": []
    },
    {
      "cell_type": "code",
      "metadata": {
        "id": "KzzYBwH1qq2M"
      },
      "source": [
        "def distance(instance1 , instance2 , k ):\n",
        "    distance =0 \n",
        "    mm1 = instance1[0] \n",
        "    cm1 = instance1[1]\n",
        "    mm2 = instance2[0]\n",
        "    cm2 = instance2[1]\n",
        "    distance = np.trace(np.dot(np.linalg.inv(cm2), cm1)) \n",
        "    distance+=(np.dot(np.dot((mm2-mm1).transpose() , np.linalg.inv(cm2)) , mm2-mm1 )) \n",
        "    distance+= np.log(np.linalg.det(cm2)) - np.log(np.linalg.det(cm1))\n",
        "    distance-= k\n",
        "    return distance"
      ],
      "execution_count": null,
      "outputs": []
    },
    {
      "cell_type": "code",
      "metadata": {
        "colab": {
          "base_uri": "https://localhost:8080/"
        },
        "id": "pHHB_RZ0bkEx",
        "outputId": "93892936-dbb5-4450-bd9f-8ff4fd9ac1d4"
      },
      "source": [
        "#prediction on Accuracy\n",
        "leng = len(testSet)\n",
        "predictions = []\n",
        "for x in range (leng):\n",
        "    predictions.append(nearestClass(getNeighbors(trainingSet ,testSet[x] , 5))) \n",
        "\n",
        "accuracy1 = getAccuracy(testSet , predictions)\n",
        "print(accuracy1)"
      ],
      "execution_count": null,
      "outputs": [
        {
          "output_type": "stream",
          "text": [
            "0.7171428571428572\n"
          ],
          "name": "stdout"
        }
      ]
    },
    {
      "cell_type": "code",
      "metadata": {
        "colab": {
          "base_uri": "https://localhost:8080/"
        },
        "id": "5WEIc0R-dQAQ",
        "outputId": "cce95fa7-bf83-4741-bb58-e36a99d235fe"
      },
      "source": [
        "from python_speech_features import mfcc\n",
        "import scipy.io.wavfile as wav\n",
        "import numpy as np\n",
        "from tempfile import TemporaryFile\n",
        "import os\n",
        "import pickle\n",
        "import random \n",
        "import operator\n",
        "\n",
        "import math\n",
        "import numpy as np\n",
        "from collections import defaultdict\n",
        "\n",
        "dataset = []\n",
        "def loadDataset(filename):\n",
        "    with open(\"my.dat\" , 'rb') as f:\n",
        "        while True:\n",
        "            try:\n",
        "                dataset.append(pickle.load(f))\n",
        "            except EOFError:\n",
        "                f.close()\n",
        "                break\n",
        "\n",
        "loadDataset(\"my.dat\")\n",
        "\n",
        "def distance(instance1 , instance2 , k ):\n",
        "    distance =0 \n",
        "    mm1 = instance1[0] \n",
        "    cm1 = instance1[1]\n",
        "    mm2 = instance2[0]\n",
        "    cm2 = instance2[1]\n",
        "    distance = np.trace(np.dot(np.linalg.inv(cm2), cm1)) \n",
        "    distance+=(np.dot(np.dot((mm2-mm1).transpose() , np.linalg.inv(cm2)) , mm2-mm1 )) \n",
        "    distance+= np.log(np.linalg.det(cm2)) - np.log(np.linalg.det(cm1))\n",
        "    distance-= k\n",
        "    return distance\n",
        "\n",
        "def getNeighbors(trainingSet , instance , k):\n",
        "    distances =[]\n",
        "    for x in range (len(trainingSet)):\n",
        "        dist = distance(trainingSet[x], instance, k )+ distance(instance, trainingSet[x], k)\n",
        "        distances.append((trainingSet[x][2], dist))\n",
        "    distances.sort(key=operator.itemgetter(1))\n",
        "    neighbors = []\n",
        "    for x in range(k):\n",
        "        neighbors.append(distances[x][0])\n",
        "    return neighbors\t\n",
        "\n",
        "def nearestClass(neighbors):\n",
        "    classVote ={}\n",
        "    for x in range(len(neighbors)):\n",
        "        response = neighbors[x]\n",
        "        if response in classVote:\n",
        "            classVote[response]+=1 \n",
        "        else:\n",
        "            classVote[response]=1 \n",
        "    sorter = sorted(classVote.items(), key = operator.itemgetter(1), reverse=True)\n",
        "    return sorter[0][0]\n",
        "\n",
        "\n",
        "results=defaultdict(int)\n",
        "\n",
        "i=1\n",
        "for folder in os.listdir(\"/content/drive/MyDrive/genres\"):\n",
        "    results[i]=folder\n",
        "    i+=1\n",
        "\n",
        "(rate,sig)=wav.read(\"/content/drive/MyDrive/genres/Baarishein (DARSH MUSIC).wav\")\n",
        "mfcc_feat=mfcc(sig,rate,winlen=0.020,appendEnergy=False)\n",
        "covariance = np.cov(np.matrix.transpose(mfcc_feat))\n",
        "mean_matrix = mfcc_feat.mean(0)\n",
        "feature=(mean_matrix,covariance,0)\n",
        "\n",
        "pred=nearestClass(getNeighbors(dataset ,feature , 5))\n",
        "\n",
        "print(results[pred])"
      ],
      "execution_count": null,
      "outputs": [
        {
          "output_type": "stream",
          "text": [
            "/usr/local/lib/python3.6/dist-packages/ipykernel_launcher.py:68: WavFileWarning: Chunk (non-data) not understood, skipping it.\n",
            "WARNING:root:frame length (882) is greater than FFT size (512), frame will be truncated. Increase NFFT to avoid.\n"
          ],
          "name": "stderr"
        },
        {
          "output_type": "stream",
          "text": [
            "pop\n"
          ],
          "name": "stdout"
        }
      ]
    }
  ]
}